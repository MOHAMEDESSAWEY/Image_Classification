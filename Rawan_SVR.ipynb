{
  "cells": [
    {
      "cell_type": "markdown",
      "id": "c4108814",
      "metadata": {
        "id": "c4108814"
      },
      "source": [
        "<div class=\"alert alert-success\" role=\"alert\">\n",
        "  <h5>Our Libraries</h5>\n",
        "</div>\n"
      ]
    },
    {
      "cell_type": "code",
      "execution_count": null,
      "id": "p1Rju1bvmdDc",
      "metadata": {
        "id": "p1Rju1bvmdDc"
      },
      "outputs": [],
      "source": [
        "# pip  install yfinance"
      ]
    },
    {
      "cell_type": "code",
      "execution_count": null,
      "id": "3d926e7a",
      "metadata": {
        "id": "3d926e7a"
      },
      "outputs": [],
      "source": [
        "import pandas as pd\n",
        "import numpy as np\n",
        "import datetime\n",
        "import matplotlib.pyplot as plt\n",
        "\n",
        "from keras.models import Sequential\n",
        "from tensorflow.keras import layers\n",
        "\n",
        "# Optimizers\n",
        "from tensorflow.keras.optimizers import Adam, RMSprop, Adadelta, SGD\n",
        "\n",
        "%matplotlib inline\n",
        "plt.rcParams.update({'font.size': 20})\n",
        "\n"
      ]
    },
    {
      "cell_type": "markdown",
      "id": "ea3f2fe8",
      "metadata": {
        "id": "ea3f2fe8"
      },
      "source": [
        "<div class=\"alert alert-success\" role=\"alert\">\n",
        "  <h5>Our Constants</h5>\n",
        "</div>\n"
      ]
    },
    {
      "cell_type": "code",
      "execution_count": null,
      "id": "b5309691",
      "metadata": {
        "id": "b5309691"
      },
      "outputs": [],
      "source": [
        "START = \"2017-12-29\"\n",
        "END = \"2022-12-15\"\n",
        "PAST_N_DAYS = 90\n",
        "LEARNING_RATE = 0.001\n",
        "EPOCHS = 20"
      ]
    },
    {
      "cell_type": "markdown",
      "id": "e57ff2ca",
      "metadata": {
        "id": "e57ff2ca"
      },
      "source": [
        "<div class=\"alert alert-success\" role=\"alert\">\n",
        "  <h5>Our Functions</h5>\n",
        "</div>\n"
      ]
    },
    {
      "cell_type": "code",
      "execution_count": null,
      "id": "c051e811",
      "metadata": {
        "id": "c051e811"
      },
      "outputs": [],
      "source": [
        "def Target_to_date_x_y(df):\n",
        "    df_as_np = df.to_numpy()\n",
        "\n",
        "    dates = df_as_np[:, 0]\n",
        "\n",
        "    middle_matrix = df_as_np[:, 1:-1]\n",
        "    X = middle_matrix.reshape((len(dates), middle_matrix.shape[1], 1))\n",
        "\n",
        "    Y = df_as_np[:, -1]\n",
        "\n",
        "    return dates, X.astype(np.float32), Y.astype(np.float32)"
      ]
    },
    {
      "cell_type": "code",
      "execution_count": null,
      "id": "39ebfd5e",
      "metadata": {
        "id": "39ebfd5e"
      },
      "outputs": [],
      "source": [
        "def N_Target(df, first_date_str, last_date_str, n=3):\n",
        "    \n",
        "    first_date = pd.to_datetime(first_date_str)\n",
        "    last_date  = pd.to_datetime(last_date_str)\n",
        "\n",
        "    target_date = first_date\n",
        "\n",
        "    dates = []\n",
        "    X, Y = [], []\n",
        "\n",
        "    last_time = False\n",
        "    \n",
        "    while True:\n",
        "        df_subset = df.loc[:target_date].tail(n+1)\n",
        "\n",
        "        if len(df_subset) != n+1:\n",
        "            print(f'Error: Window of size {n} is too large for date {target_date}')\n",
        "            return\n",
        "\n",
        "        values = df_subset['Close'].to_numpy()\n",
        "        x, y = values[:-1], values[-1]\n",
        "\n",
        "        dates.append(target_date)\n",
        "        X.append(x)\n",
        "        Y.append(y)\n",
        "\n",
        "        next_week = df.loc[target_date:target_date+datetime.timedelta(days=7)]\n",
        "        next_datetime_str = str(next_week.head(2).tail(1).index.values[0])\n",
        "        next_date_str = next_datetime_str.split('T')[0]\n",
        "        year_month_day = next_date_str.split('-')\n",
        "        year, month, day = year_month_day\n",
        "        next_date = datetime.datetime(day=int(day), month=int(month), year=int(year))\n",
        "\n",
        "        if last_time:\n",
        "            break\n",
        "\n",
        "        target_date = next_date\n",
        "\n",
        "        if target_date == last_date:\n",
        "            last_time = True\n",
        "    \n",
        "    ret_df = pd.DataFrame({})\n",
        "    ret_df['Target Date'] = dates\n",
        "  \n",
        "    X = np.array(X)\n",
        "    for i in range(0, n):\n",
        "        X[:, i]\n",
        "        ret_df[f'Target-{n-i}'] = X[:, i]\n",
        "  \n",
        "    ret_df['Target'] = Y\n",
        "\n",
        "    return ret_df"
      ]
    },
    {
      "cell_type": "code",
      "execution_count": null,
      "id": "adda2c32",
      "metadata": {
        "id": "adda2c32"
      },
      "outputs": [],
      "source": [
        "def check_stationarity(df):\n",
        "    df = df.dropna()\n",
        "    from statsmodels.tsa.stattools import adfuller\n",
        "    result = adfuller(df, autolag='AIC')\n",
        "\n",
        "    if result[0] < result[4].get(\"1%\"):\n",
        "        print(\"Passes on the 1% Critial Value\")\n",
        "        \n",
        "    elif result[0] < result[4].get(\"5%\"):\n",
        "        print(\"Passes on the 5% Critial Value\")\n",
        "    \n",
        "    elif result[0] < result[4].get(\"10%\"):\n",
        "        print(\"Passes on the 10% Critial Value\")\n",
        "    \n",
        "    else:\n",
        "        print(\"Failed\")\n"
      ]
    },
    {
      "cell_type": "code",
      "execution_count": null,
      "id": "1777e8b0",
      "metadata": {
        "id": "1777e8b0"
      },
      "outputs": [],
      "source": [
        "def do_stationarity(df):\n",
        "    \"\"\" \n",
        "    This function takes a Non-stationarity DataFrame\n",
        "    Returns a stationarity one by applying following equation\n",
        "        df = df - df.shift(1)\n",
        "    \"\"\"\n",
        "    df = df - df.shift(1)\n",
        "    \n",
        "    # Dropping the nulls, which is only the frist row in the dataframe\n",
        "    df = df.dropna()\n",
        "    \n",
        "    return df"
      ]
    },
    {
      "cell_type": "code",
      "execution_count": null,
      "id": "8d5c70af",
      "metadata": {
        "id": "8d5c70af"
      },
      "outputs": [],
      "source": [
        "def inv_stationarity(df_original, df_stationarity):\n",
        "    df_original = df_original.dropna()\n",
        "\n",
        "    \"\"\" \n",
        "    Inverse stationarity function takes a the original & Stationarity DataFrame\n",
        "    Returns a Stationarity originally form\n",
        "    \"\"\"\n",
        "    dfr = (df_stationarity.cumsum()*df_stationarity.iloc[-1])\n",
        "\n",
        "    from sklearn import preprocessing\n",
        "\n",
        "    scaler = preprocessing.MinMaxScaler(feature_range=(df_original.min()[0], df_original.max()[0]))\n",
        "\n",
        "    names = dfr.columns\n",
        "    d = scaler.fit_transform(dfr)\n",
        "    dfr = pd.DataFrame(d, columns=names)\n",
        "    return dfr"
      ]
    },
    {
      "cell_type": "code",
      "execution_count": null,
      "id": "46d6a36d",
      "metadata": {
        "id": "46d6a36d"
      },
      "outputs": [],
      "source": [
        "def plotdf(df , mean = True):\n",
        "    df = df.dropna()\n",
        "    import matplotlib.pyplot as plt\n",
        "    plt.rcParams[\"figure.figsize\"] = (25,8)\n",
        "    plt.title(\"CIB stock market price for Five years\")\n",
        "    plt.ylabel(\"Price in USD\")\n",
        "    plt.xlabel(\"Time in Years\")\n",
        "    plt.plot(df.index, df['Close']);\n",
        "    if mean:\n",
        "        plt.axhline(df['Close'].mean());"
      ]
    },
    {
      "cell_type": "code",
      "execution_count": null,
      "id": "b056e122",
      "metadata": {
        "id": "b056e122"
      },
      "outputs": [],
      "source": [
        "def ADF_details(df):\n",
        "    df = df.dropna()\n",
        "    from statsmodels.tsa.stattools import adfuller\n",
        "    result = adfuller(df, autolag='AIC')\n",
        "    print(f'ADF Statistic: {result[0]}\\n')\n",
        "    print(f'p-value: {result[1]}\\n')\n",
        "    print('Critial Values:')\n",
        "    for key, value in result[4].items():\n",
        "        print(f'   {key}, {value}')"
      ]
    },
    {
      "cell_type": "code",
      "execution_count": null,
      "id": "acd92fa1",
      "metadata": {
        "id": "acd92fa1"
      },
      "outputs": [],
      "source": []
    },
    {
      "cell_type": "markdown",
      "id": "p7Q24YVcT-40",
      "metadata": {
        "id": "p7Q24YVcT-40"
      },
      "source": [
        "<div class=\"alert alert-success\" role=\"alert\">\n",
        "  <h5>Pulling CIB stock market prices form yahoo finance API</h5>\n",
        "</div>\n"
      ]
    },
    {
      "cell_type": "code",
      "execution_count": null,
      "id": "f3764e14",
      "metadata": {
        "colab": {
          "base_uri": "https://localhost:8080/"
        },
        "id": "f3764e14",
        "outputId": "88dea822-f638-4bd9-e185-247aae31c673"
      },
      "outputs": [
        {
          "name": "stdout",
          "output_type": "stream",
          "text": [
            "[*********************100%***********************]  1 of 1 completed\n"
          ]
        }
      ],
      "source": [
        "# Pulling the data form yahoo finance\n",
        "#import yfinance as yf\n",
        "\n",
        "import yfinance as yf\n",
        "# Commercial International Bank in Egypt\n",
        "df = yf.download('CIBEY', start = START, end = END)"
      ]
    },
    {
      "cell_type": "markdown",
      "id": "1dd61537",
      "metadata": {
        "id": "1dd61537"
      },
      "source": [
        "<div class=\"alert alert-success\" role=\"alert\">\n",
        "  <h5>Let's talk about the stock market</h5>\n",
        "</div>\n"
      ]
    },
    {
      "cell_type": "markdown",
      "id": "f22d8b81",
      "metadata": {
        "id": "f22d8b81"
      },
      "source": [
        "![https://datavizcatalogue.com/methods/images/anatomy/SVG/OHLC_chart.svg](attachment:OHLC_chart.svg)"
      ]
    },
    {
      "cell_type": "code",
      "execution_count": null,
      "id": "38a42bf9",
      "metadata": {
        "id": "38a42bf9"
      },
      "outputs": [],
      "source": [
        "from plotly.offline import iplot\n",
        "import plotly.graph_objs as go\n",
        "\n",
        "trace = go.Ohlc(x=df.index,\n",
        "                open=df.Open['1-2018'],\n",
        "                high=df.High['1-2018'],\n",
        "                low=df.Low['1-2018'],\n",
        "                close=df.Close['1-2018'])\n",
        "\n",
        "trace_all = go.Ohlc(x=df.index,\n",
        "                open=df.Open,\n",
        "                high=df.High,\n",
        "                low=df.Low,\n",
        "                close=df.Close)\n",
        "# iplot([trace_all])\n",
        "iplot([trace])"
      ]
    },
    {
      "cell_type": "code",
      "execution_count": null,
      "id": "06ddbcd2",
      "metadata": {
        "id": "06ddbcd2"
      },
      "outputs": [],
      "source": [
        "df = df.filter(['Close'])\n",
        "\n",
        "df = df.asfreq('b')\n",
        "\n",
        "df = df.fillna(method=\"bfill\")"
      ]
    },
    {
      "cell_type": "code",
      "execution_count": null,
      "id": "04dba728",
      "metadata": {
        "id": "04dba728"
      },
      "outputs": [],
      "source": [
        "df.tail()"
      ]
    },
    {
      "cell_type": "code",
      "execution_count": null,
      "id": "237e8eac",
      "metadata": {
        "id": "237e8eac"
      },
      "outputs": [],
      "source": [
        "plotdf(df)"
      ]
    },
    {
      "cell_type": "code",
      "execution_count": null,
      "id": "43cabfb4",
      "metadata": {
        "id": "43cabfb4"
      },
      "outputs": [],
      "source": [
        "df.plot(kind='kde');"
      ]
    },
    {
      "cell_type": "code",
      "execution_count": null,
      "id": "8663e77a",
      "metadata": {
        "id": "8663e77a"
      },
      "outputs": [],
      "source": [
        "from statsmodels.graphics.tsaplots import plot_acf,plot_pacf\n",
        "import statsmodels.api as sm\n",
        "plot_acf(df,lags=40)\n",
        "plt.ylim(-0.3,1.3);"
      ]
    },
    {
      "cell_type": "code",
      "execution_count": null,
      "id": "2efcf8fe",
      "metadata": {
        "id": "2efcf8fe"
      },
      "outputs": [],
      "source": [
        "plot_pacf(df,lags=10, method='ols')\n",
        "plt.ylim(-0.3,1.3);"
      ]
    },
    {
      "cell_type": "markdown",
      "id": "8ebd1c83",
      "metadata": {
        "id": "8ebd1c83"
      },
      "source": [
        "# MinMaxScaler"
      ]
    },
    {
      "cell_type": "code",
      "execution_count": null,
      "id": "63b53962",
      "metadata": {
        "id": "63b53962"
      },
      "outputs": [],
      "source": [
        "from sklearn.preprocessing import MinMaxScaler\n",
        "\n",
        "scaler=MinMaxScaler(feature_range=(0,1))\n",
        "\n",
        "df = scaler.fit_transform(df)\n",
        "df = pd.DataFrame(data = df, columns = [\"Close\"])"
      ]
    },
    {
      "cell_type": "code",
      "execution_count": null,
      "id": "65413e86",
      "metadata": {
        "id": "65413e86"
      },
      "outputs": [],
      "source": [
        "time = pd.date_range(start='2017-12-29',end='2022-12-14',freq='B')\n",
        "df_time = pd.DataFrame(data = time, columns = [\"index\"])\n",
        "df.index = time"
      ]
    },
    {
      "cell_type": "code",
      "execution_count": null,
      "id": "b823202d",
      "metadata": {
        "id": "b823202d"
      },
      "outputs": [],
      "source": [
        "Target_df = N_Target(df, \n",
        "                       '2018-06-01',\n",
        "                       '2022-12-14',\n",
        "                       n = PAST_N_DAYS)\n",
        "Target_df"
      ]
    },
    {
      "cell_type": "markdown",
      "id": "de527919",
      "metadata": {
        "id": "de527919"
      },
      "source": [
        "# REShaping"
      ]
    },
    {
      "cell_type": "code",
      "execution_count": null,
      "id": "f823b88f",
      "metadata": {
        "colab": {
          "base_uri": "https://localhost:8080/"
        },
        "id": "f823b88f",
        "outputId": "a4b2c3b6-de06-447e-f789-aaee01ec6e30"
      },
      "outputs": [
        {
          "data": {
            "text/plain": [
              "((1184,), (1184, 90, 1), (1184, 1))"
            ]
          },
          "execution_count": 23,
          "metadata": {},
          "output_type": "execute_result"
        }
      ],
      "source": [
        "dates, x, y = Target_to_date_x_y(Target_df)\n",
        "y = y.reshape(-1, 1)\n",
        "dates.shape, x.shape, y.shape"
      ]
    },
    {
      "cell_type": "code",
      "execution_count": null,
      "id": "c01e4e4c",
      "metadata": {
        "id": "c01e4e4c"
      },
      "outputs": [],
      "source": [
        "_80 = int(len(dates) * .8)\n",
        "_90 = int(len(dates) * .9)\n",
        "\n",
        "# Dates of the Train data & x_train & y_train => 80%\n",
        "#(jan - 2018) upto (jan - 2022)\n",
        "dates_train, x_train, y_train = dates[:_80], x[:_80], y[:_80]\n",
        "\n",
        "#=============================================================\n",
        "\n",
        "# Dates of the Validation & x_val & y_val => 10%\n",
        "#(jan - 2022) upto (june - 2022)\n",
        "dates_val, x_val, y_val = dates[_80:_90], x[_80:_90], y[_80:_90]\n",
        "\n",
        "\n",
        "#=============================================================\n",
        "\n",
        "\n",
        "# Dates of the Testing & x_Test & y_test => 10%\n",
        "#(june - 2022) upto (dec - 2022)\n",
        "dates_test, x_test, y_test = dates[_90:], x[_90:], y[_90:]\n"
      ]
    },
    {
      "cell_type": "code",
      "execution_count": null,
      "id": "59db65cf",
      "metadata": {
        "id": "59db65cf"
      },
      "outputs": [],
      "source": [
        "plt.rcParams[\"figure.figsize\"] = (25,8)\n",
        "plt.title(\"Date Spilt \\n\")\n",
        "plt.plot(dates_train, y_train)\n",
        "plt.plot(dates_val, y_val)\n",
        "plt.plot(dates_test, y_test)\n",
        "plt.legend(['Train', 'Validation', 'Test']);"
      ]
    },
    {
      "cell_type": "code",
      "execution_count": null,
      "id": "63c8a47f",
      "metadata": {
        "id": "63c8a47f"
      },
      "outputs": [],
      "source": [
        "df_train=pd.DataFrame(y_train, columns=['Close'])\n",
        "df_train.index = dates_train"
      ]
    },
    {
      "cell_type": "markdown",
      "id": "4121fa09",
      "metadata": {
        "id": "4121fa09"
      },
      "source": [
        "<div class=\"alert alert-success\" role=\"alert\">\n",
        "  <h3 class=\"alert-heading\">Let's Talk About STATIONARITY!</h3>\n",
        "  <hr>\n",
        "  <p class=\"mb-0\"><p>The word \"Stationarity\" means</p>\n",
        "    <br> &ensp; &ensp; &#9673  &ensp;  Our $\\mu$ is constant.\n",
        "    <br> &ensp; &ensp; &#9673  &ensp;  Our $\\sigma$ is constant\n",
        "    <br> &ensp; &ensp; &#9673  &ensp;  We have NO Seasonality\n",
        "    </p>\n",
        "</div>"
      ]
    },
    {
      "cell_type": "code",
      "execution_count": null,
      "id": "b2c644ee",
      "metadata": {
        "colab": {
          "base_uri": "https://localhost:8080/"
        },
        "id": "b2c644ee",
        "outputId": "b6310a38-5541-4353-d44b-400386656b00"
      },
      "outputs": [
        {
          "name": "stdout",
          "output_type": "stream",
          "text": [
            "Failed\n"
          ]
        }
      ],
      "source": [
        "check_stationarity(df_train)"
      ]
    },
    {
      "cell_type": "code",
      "execution_count": null,
      "id": "57684954",
      "metadata": {
        "colab": {
          "base_uri": "https://localhost:8080/"
        },
        "id": "57684954",
        "outputId": "b97a1c6c-8c88-416f-e8cf-e6850b268c2d"
      },
      "outputs": [
        {
          "name": "stdout",
          "output_type": "stream",
          "text": [
            "ADF Statistic: -2.160298590808073\n",
            "\n",
            "p-value: 0.22096888332201436\n",
            "\n",
            "Critial Values:\n",
            "   1%, -3.4372887850912175\n",
            "   5%, -2.8646033071530703\n",
            "   10%, -2.568401081996585\n"
          ]
        }
      ],
      "source": [
        "ADF_details(df_train)"
      ]
    },
    {
      "cell_type": "markdown",
      "id": "ffe450a1",
      "metadata": {
        "id": "ffe450a1"
      },
      "source": [
        "<div class=\"alert alert-warning\" role=\"alert\">\n",
        "    ADF Statistic < None of the critical values\n",
        "    <br>                    \n",
        "     Thus, We don't have Stationarity\n",
        "</div>"
      ]
    },
    {
      "cell_type": "code",
      "execution_count": null,
      "id": "db88494c",
      "metadata": {
        "id": "db88494c"
      },
      "outputs": [],
      "source": [
        "df_train_stationarity = do_stationarity(df_train)"
      ]
    },
    {
      "cell_type": "code",
      "execution_count": null,
      "id": "5f502faa",
      "metadata": {
        "id": "5f502faa"
      },
      "outputs": [],
      "source": [
        "df_train_stationarity.describe()"
      ]
    },
    {
      "cell_type": "code",
      "execution_count": null,
      "id": "fff2cea6",
      "metadata": {
        "colab": {
          "base_uri": "https://localhost:8080/"
        },
        "id": "fff2cea6",
        "outputId": "552d2f3e-192b-4952-8e16-d816166b03e6"
      },
      "outputs": [
        {
          "name": "stdout",
          "output_type": "stream",
          "text": [
            "Passes on the 1% Critial Value\n"
          ]
        }
      ],
      "source": [
        "check_stationarity(df_train_stationarity)"
      ]
    },
    {
      "cell_type": "code",
      "execution_count": null,
      "id": "4e5232d5",
      "metadata": {
        "id": "4e5232d5"
      },
      "outputs": [],
      "source": [
        "df_train_stationarity"
      ]
    },
    {
      "cell_type": "code",
      "execution_count": null,
      "id": "8f035c56",
      "metadata": {
        "id": "8f035c56"
      },
      "outputs": [],
      "source": [
        "plotdf(df_train_stationarity)"
      ]
    },
    {
      "cell_type": "code",
      "execution_count": null,
      "id": "816bb875",
      "metadata": {
        "colab": {
          "base_uri": "https://localhost:8080/"
        },
        "id": "816bb875",
        "outputId": "2062c6d9-3d51-4ee2-f45e-9c4645bea642"
      },
      "outputs": [
        {
          "name": "stdout",
          "output_type": "stream",
          "text": [
            "Error: Window of size 90 is too large for date 2018-01-18 00:00:00\n"
          ]
        }
      ],
      "source": [
        "Target_df_train = N_Target(df_train_stationarity, \n",
        "                       '2018-01-18',\n",
        "                       '2018-07-11',\n",
        "                       n = PAST_N_DAYS)\n",
        "Target_df_train\n",
        "\n",
        "# dates_train, x_train, y_train = Target_to_date_x_y(Target_df_train)"
      ]
    },
    {
      "cell_type": "code",
      "execution_count": null,
      "id": "a205687d",
      "metadata": {
        "id": "a205687d",
        "outputId": "e9e0f5e9-f830-4218-aa1b-193d1b9fd7aa"
      },
      "outputs": [
        {
          "data": {
            "text/plain": [
              "(947, 90)"
            ]
          },
          "execution_count": 37,
          "metadata": {},
          "output_type": "execute_result"
        }
      ],
      "source": [
        "x_train = x_train.reshape(947, 90,)\n",
        "x_test = x_test.reshape(119, 90,)\n",
        "x_val = x_val.reshape(118, 90,)\n",
        "x_train.shape # RAWAN"
      ]
    },
    {
      "cell_type": "code",
      "execution_count": null,
      "id": "47191411",
      "metadata": {
        "id": "47191411"
      },
      "outputs": [],
      "source": [
        "y_train = y_train.reshape(947,) # RAWAN\n",
        "y_test = y_test.reshape(119,) # RAWAN"
      ]
    },
    {
      "cell_type": "markdown",
      "id": "FCFE9wPAigp9",
      "metadata": {
        "id": "FCFE9wPAigp9"
      },
      "source": [
        "# **SVR**"
      ]
    },
    {
      "cell_type": "code",
      "execution_count": null,
      "id": "Dslz8WZQvUGB",
      "metadata": {
        "colab": {
          "base_uri": "https://localhost:8080/"
        },
        "id": "Dslz8WZQvUGB",
        "outputId": "81efa4c6-469f-499e-901b-31862d1df9ec"
      },
      "outputs": [
        {
          "data": {
            "text/plain": [
              "SVR(kernel='linear')"
            ]
          },
          "execution_count": 39,
          "metadata": {},
          "output_type": "execute_result"
        }
      ],
      "source": [
        "from sklearn.svm import SVR\n",
        "model = SVR(kernel = 'linear',gamma = 'scale', C=1.0, epsilon=0.1)\n",
        "model.fit(x_train, y_train)"
      ]
    },
    {
      "cell_type": "code",
      "execution_count": null,
      "id": "cc074dac",
      "metadata": {
        "id": "cc074dac"
      },
      "outputs": [],
      "source": [
        "train_predictions = model.predict(x_train)\n",
        "train_predictions=scaler.inverse_transform(train_predictions.reshape(947, 1))\n",
        "y_train=scaler.inverse_transform(y_train.reshape(947, 1))\n",
        "\n",
        "plt.plot(dates_train, train_predictions)\n",
        "plt.plot(dates_train, y_train)\n",
        "plt.title(\"Training Error \\n\")\n",
        "plt.ylabel(\"Price in USD\\n\")\n",
        "plt.xlabel(\"\\nTime in 6 Month period\")\n",
        "plt.rcParams[\"figure.figsize\"] = (25,8)\n",
        "plt.legend(['Training Predictions', 'Training Observations']);"
      ]
    },
    {
      "cell_type": "code",
      "execution_count": null,
      "id": "568eb755",
      "metadata": {
        "id": "568eb755"
      },
      "outputs": [],
      "source": [
        "x_val.shape"
      ]
    },
    {
      "cell_type": "code",
      "execution_count": null,
      "id": "383e6660",
      "metadata": {
        "id": "383e6660"
      },
      "outputs": [],
      "source": [
        "val_predictions = model.predict(x_val)\n",
        "\n",
        "val_predictions=scaler.inverse_transform(val_predictions.reshape(118, 1))\n",
        "y_val=scaler.inverse_transform(y_val.reshape(118, 1))\n",
        "\n",
        "plt.plot(dates_val, val_predictions)\n",
        "plt.plot(dates_val, y_val)\n",
        "plt.rcParams[\"figure.figsize\"] = (25,8)\n",
        "plt.title(\"Validation Error \\n\")\n",
        "plt.ylabel(\"Price in USD\\n\")\n",
        "plt.xlabel(\"\\nTime in Month\")\n",
        "plt.legend(['Validation Predictions', 'Validation Observations']);"
      ]
    },
    {
      "cell_type": "code",
      "execution_count": null,
      "id": "51887086",
      "metadata": {
        "id": "51887086"
      },
      "outputs": [],
      "source": [
        "x_test.shape"
      ]
    },
    {
      "cell_type": "code",
      "execution_count": null,
      "id": "ab864f25",
      "metadata": {
        "id": "ab864f25"
      },
      "outputs": [],
      "source": [
        "test_predictions = model.predict(x_test)\n",
        "\n",
        "test_predictions=scaler.inverse_transform(test_predictions.reshape(119, 1))\n",
        "y_test=scaler.inverse_transform(y_test.reshape(119, 1))\n",
        "\n",
        "\n",
        "plt.plot(dates_test, test_predictions)\n",
        "plt.plot(dates_test, y_test)\n",
        "plt.rcParams[\"figure.figsize\"] = (25,8)\n",
        "plt.title(\"Testing Error \\n\")\n",
        "plt.ylabel(\"Price in USD\\n\")\n",
        "# plt.ylim(0.5,1.5)\n",
        "plt.xlabel(\"\\nTime in Month\")\n",
        "\n",
        "plt.legend(['Testing Predictions', 'Testing Observations']);"
      ]
    },
    {
      "cell_type": "code",
      "execution_count": null,
      "id": "76cab3d5",
      "metadata": {
        "id": "76cab3d5"
      },
      "outputs": [],
      "source": [
        "# plt.plot(dates_train, train_predictions)\n",
        "# plt.plot(dates_train, y_train)\n",
        "plt.plot(dates_val, val_predictions)\n",
        "plt.plot(dates_val, y_val)\n",
        "plt.plot(dates_test, test_predictions)\n",
        "plt.plot(dates_test, y_test)\n",
        "plt.rcParams[\"figure.figsize\"] = (25,8)\n",
        "plt.title(\"Validation & Testing Error \\n\")\n",
        "plt.ylabel(\"Price in USD\\n\")\n",
        "plt.xlabel(\"\\nTime in Month\")\n",
        "plt.legend(['Validation Predictions', \n",
        "            'Validation Observations',\n",
        "            'Testing Predictions', \n",
        "            'Testing Observations']);"
      ]
    }
  ],
  "metadata": {
    "colab": {
      "provenance": []
    },
    "kernelspec": {
      "display_name": "Python 3 (ipykernel)",
      "language": "python",
      "name": "python3"
    },
    "language_info": {
      "codemirror_mode": {
        "name": "ipython",
        "version": 3
      },
      "file_extension": ".py",
      "mimetype": "text/x-python",
      "name": "python",
      "nbconvert_exporter": "python",
      "pygments_lexer": "ipython3",
      "version": "3.9.12"
    }
  },
  "nbformat": 4,
  "nbformat_minor": 5
}